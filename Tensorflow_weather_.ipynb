{
  "cells": [
    {
      "cell_type": "code",
      "execution_count": null,
      "metadata": {
        "id": "qGcmjbLuXalN"
      },
      "outputs": [],
      "source": [
        "#qs 1\n",
        "import numpy as np\n",
        "import pandas as pd\n",
        "import matplotlib.pyplot as plt\n",
        "%matplotlib inline\n",
        "import tensorflow as tf\n",
        "from sklearn import preprocessing\n",
        "from tensorflow import keras\n",
        "from tensorflow.keras import layers\n",
        "from keras.models import Sequential\n",
        "from keras.layers import Dense, Activation,Dropout\n",
        "from keras.optimizers import Adam,RMSprop"
      ]
    },
    {
      "cell_type": "code",
      "execution_count": null,
      "metadata": {
        "id": "t_oAnNYzYj0A"
      },
      "outputs": [],
      "source": [
        "da=pd.read_csv(\"/content/weatherAUS.csv\")"
      ]
    },
    {
      "cell_type": "code",
      "execution_count": null,
      "metadata": {
        "id": "jw2qSk74YkKR"
      },
      "outputs": [],
      "source": [
        "da\n"
      ]
    },
    {
      "cell_type": "code",
      "execution_count": null,
      "metadata": {
        "id": "7v5ComP1YkQ9"
      },
      "outputs": [],
      "source": [
        "da.info()"
      ]
    },
    {
      "cell_type": "code",
      "execution_count": null,
      "metadata": {
        "id": "73iSZvPVjVJa"
      },
      "outputs": [],
      "source": [
        "da.isnull().sum()"
      ]
    },
    {
      "cell_type": "code",
      "execution_count": null,
      "metadata": {
        "id": "LZyg8CXmjYss"
      },
      "outputs": [],
      "source": [
        "from sklearn.preprocessing import LabelEncoder\n",
        "da[['RainTomorrow','RainToday','WindDir9am','WindDir3pm','WindGustDir','Location','Date']]=da[['RainTomorrow','RainToday','WindDir9am','WindDir3pm','WindGustDir','Location','Date']].apply(LabelEncoder().fit_transform)"
      ]
    },
    {
      "cell_type": "code",
      "execution_count": null,
      "metadata": {
        "id": "VBE2MIvkYrRN"
      },
      "outputs": [],
      "source": [
        "features = da.drop(['RainTomorrow'], axis=1) # dropping target and extra columns\n",
        "target = da['RainTomorrow']\n",
        "\n",
        "#Set up a standard scaler for the features\n",
        "col_names = list(features.columns)\n",
        "s_scaler = preprocessing.StandardScaler()\n",
        "features = s_scaler.fit_transform(features)\n",
        "features = pd.DataFrame(features, columns=col_names)\n",
        "\n",
        "features.describe().T"
      ]
    },
    {
      "cell_type": "code",
      "execution_count": null,
      "metadata": {
        "id": "kgXzwDzQjY51"
      },
      "outputs": [],
      "source": [
        "from sklearn.impute import SimpleImputer\n",
        "impute=SimpleImputer(strategy='mean')\n",
        "da.iloc[:,:]=impute.fit_transform(da)\n",
        "da"
      ]
    },
    {
      "cell_type": "code",
      "execution_count": null,
      "metadata": {
        "id": "XAHrRGRsqExs"
      },
      "outputs": [],
      "source": [
        "X = da.iloc[:, 3:-1].values\n",
        "y = da.iloc[:, -1].values\n",
        "print(X)\n",
        "print(y)"
      ]
    },
    {
      "cell_type": "code",
      "execution_count": null,
      "metadata": {
        "id": "jNFq3PFOjZEE"
      },
      "outputs": [],
      "source": [
        "#q2 ann\n",
        "from sklearn.model_selection import train_test_split\n",
        "X_train, X_test, y_train, y_test = train_test_split(X, y, test_size = 0.2, random_state = 0)"
      ]
    },
    {
      "cell_type": "code",
      "execution_count": null,
      "metadata": {
        "id": "0qfV_2MEjZKY"
      },
      "outputs": [],
      "source": [
        "# Initializing the ANN\n",
        "model = tf.keras.models.Sequential()\n",
        "# Add the input layer and first hidden layer\n",
        "model.add(tf.keras.layers.Dense(units=12, activation='relu', input_shape=X_train[0].shape))\n",
        "# Add the second hidden layer\n",
        "model.add(tf.keras.layers.Dense(units=8, activation='relu'))\n",
        "# Add the output layer\n",
        "model.add(tf.keras.layers.Dense(units=1, activation='sigmoid'))"
      ]
    },
    {
      "cell_type": "code",
      "execution_count": null,
      "metadata": {
        "id": "8GIu0fFojZOP"
      },
      "outputs": [],
      "source": [
        "model.compile(optimizer = 'adam', loss = 'binary_crossentropy', metrics = ['accuracy'])\n",
        "history=model.fit(X_train, y_train, batch_size = 32, epochs =10,validation_split=0.3)"
      ]
    },
    {
      "cell_type": "code",
      "execution_count": null,
      "metadata": {
        "id": "YBTJwXbUxNIr"
      },
      "outputs": [],
      "source": [
        "plt.plot(history.history['loss'],label='train')\n",
        "plt.plot(history.history['val_loss'],label='test')\n",
        "plt.legend()\n",
        "plt.show()"
      ]
    },
    {
      "cell_type": "code",
      "execution_count": null,
      "metadata": {
        "id": "zlO7yH1j5Sdk"
      },
      "outputs": [],
      "source": [
        "plt.plot(history.history['accuracy'],label='train')\n",
        "plt.plot(history.history['val_accuracy'],label='test')\n",
        "plt.legend()\n",
        "plt.show()"
      ]
    },
    {
      "cell_type": "code",
      "source": [
        "#q3\n",
        "num_labels = len(np.unique(y_train))"
      ],
      "metadata": {
        "id": "OFgq8Qym7afV"
      },
      "execution_count": null,
      "outputs": []
    },
    {
      "cell_type": "code",
      "source": [
        "input_size = X_train.shape[1]\n",
        "input_size"
      ],
      "metadata": {
        "id": "yyngz7D8_RlJ"
      },
      "execution_count": null,
      "outputs": []
    },
    {
      "cell_type": "code",
      "source": [
        "#regularisation l2\n",
        "model2=Sequential()\n",
        "model2.add(Dense(units=32,input_dim=input_size))\n",
        "model2.add(Activation('relu'))\n",
        "\n",
        "model2.add(Dense(units=32,kernel_regularizer=keras.regularizers.l2(0.001)))\n",
        "model2.add(Activation('relu'))\n",
        "\n",
        "model2.add(Dense(num_labels))\n",
        "model2.add(Activation('softmax'))"
      ],
      "metadata": {
        "id": "6nhdhI3W9LZu"
      },
      "execution_count": null,
      "outputs": []
    },
    {
      "cell_type": "code",
      "source": [
        "model2.compile(loss=\"binary_crossentropy\",optimizer=\"adam\",metrics=[\"accuracy\"])"
      ],
      "metadata": {
        "id": "uwFmt40D9QNU"
      },
      "execution_count": null,
      "outputs": []
    },
    {
      "cell_type": "code",
      "source": [
        "history1 = model.fit(X_train, y_train, batch_size = 32, epochs = 10, validation_split=0.2)"
      ],
      "metadata": {
        "id": "LXl6pqz8_hJP"
      },
      "execution_count": null,
      "outputs": []
    },
    {
      "cell_type": "code",
      "source": [
        "plt.plot(history1.history['loss'],label='train')\n",
        "plt.plot(history1.history['val_loss'],label='test')\n",
        "plt.legend()\n",
        "plt.show()"
      ],
      "metadata": {
        "id": "TViFi1Fg_quJ"
      },
      "execution_count": null,
      "outputs": []
    },
    {
      "cell_type": "code",
      "source": [
        "plt.plot(history1.history['accuracy'],label='train')\n",
        "plt.plot(history1.history['val_accuracy'],label='test')\n",
        "plt.legend()\n",
        "plt.show()"
      ],
      "metadata": {
        "id": "bF1J8q6G_-Y8"
      },
      "execution_count": null,
      "outputs": []
    },
    {
      "cell_type": "code",
      "source": [
        "#regularisation l1\n",
        "model3=Sequential()\n",
        "model3.add(Dense(units=32,input_dim=input_size))\n",
        "model3.add(Activation('relu'))\n",
        "\n",
        "model3.add(Dense(units=32,kernel_regularizer=keras.regularizers.l1(0.001)))\n",
        "model3.add(Activation('relu'))\n",
        "\n",
        "model3.add(Dense(num_labels))\n",
        "model3.add(Activation('softmax'))"
      ],
      "metadata": {
        "id": "JB_jNMHiA6ee"
      },
      "execution_count": null,
      "outputs": []
    },
    {
      "cell_type": "code",
      "source": [
        "model3.compile(loss=\"binary_crossentropy\",optimizer=\"adam\",metrics=[\"accuracy\"])"
      ],
      "metadata": {
        "id": "nJ3yhTY4BtbF"
      },
      "execution_count": null,
      "outputs": []
    },
    {
      "cell_type": "code",
      "source": [
        "history2 = model.fit(X_train, y_train, batch_size = 32, epochs = 20, validation_split=0.2)"
      ],
      "metadata": {
        "id": "lnYRCtxqB30u"
      },
      "execution_count": null,
      "outputs": []
    },
    {
      "cell_type": "code",
      "source": [
        "plt.plot(history2.history['loss'],label='train')\n",
        "plt.plot(history2.history['val_loss'],label='test')\n",
        "plt.legend()\n",
        "plt.show()"
      ],
      "metadata": {
        "id": "9vBKu0cpCCay"
      },
      "execution_count": null,
      "outputs": []
    },
    {
      "cell_type": "code",
      "source": [
        "plt.plot(history2.history['accuracy'],label='train')\n",
        "plt.plot(history2.history['val_accuracy'],label='test')\n",
        "plt.legend()\n",
        "plt.show()"
      ],
      "metadata": {
        "id": "h_Yw87SmCQUa"
      },
      "execution_count": null,
      "outputs": []
    },
    {
      "cell_type": "code",
      "source": [
        "#early stopping\n",
        "from keras.callbacks import EarlyStopping"
      ],
      "metadata": {
        "id": "lAdNFXpzCT4x"
      },
      "execution_count": null,
      "outputs": []
    },
    {
      "cell_type": "code",
      "source": [
        "model4=Sequential()\n",
        "model4.add(Dense(units=32,input_dim=input_size))\n",
        "model4.add(Activation('relu'))\n",
        "\n",
        "model4.add(Dense(units=32))\n",
        "model4.add(Activation('relu'))\n",
        "model4.add(Dropout(0.45))\n",
        "\n",
        "model4.add(Dense(num_labels))\n",
        "model4.add(Activation('softmax'))"
      ],
      "metadata": {
        "id": "UoKGDTUbCsUT"
      },
      "execution_count": null,
      "outputs": []
    },
    {
      "cell_type": "code",
      "source": [
        "model4.compile(loss=\"sparse_categorical_crossentropy\",optimizer=\"adam\",metrics=[\"accuracy\"])"
      ],
      "metadata": {
        "id": "FdDXqGCICveZ"
      },
      "execution_count": null,
      "outputs": []
    },
    {
      "cell_type": "code",
      "source": [
        "e=EarlyStopping(monitor='val_loss',mode='min',verbose=1)"
      ],
      "metadata": {
        "id": "3NEY6OS3Cy6i"
      },
      "execution_count": null,
      "outputs": []
    },
    {
      "cell_type": "code",
      "source": [
        "historye=model4.fit(X_train,y_train,validation_data=(X_test,y_test),epochs=3000,verbose=0,callbacks=[e])"
      ],
      "metadata": {
        "id": "UDlJ1qebC40D"
      },
      "execution_count": null,
      "outputs": []
    },
    {
      "cell_type": "code",
      "source": [
        "plt.plot(historye.history['loss'],label='train')\n",
        "plt.plot(historye.history['val_loss'],label='test')\n",
        "plt.legend()\n",
        "plt.show()"
      ],
      "metadata": {
        "id": "NTUa_Yo0DAJD"
      },
      "execution_count": null,
      "outputs": []
    },
    {
      "cell_type": "code",
      "source": [
        "plt.plot(historye.history['accuracy'],label='train')\n",
        "plt.plot(historye.history['val_accuracy'],label='test')\n",
        "plt.legend()\n",
        "plt.show()"
      ],
      "metadata": {
        "id": "qdeA-NQJDdGY"
      },
      "execution_count": null,
      "outputs": []
    }
  ],
  "metadata": {
    "colab": {
      "provenance": []
    },
    "kernelspec": {
      "display_name": "Python 3",
      "name": "python3"
    },
    "language_info": {
      "name": "python"
    }
  },
  "nbformat": 4,
  "nbformat_minor": 0
}