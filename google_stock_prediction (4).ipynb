{
  "nbformat": 4,
  "nbformat_minor": 0,
  "metadata": {
    "colab": {
      "provenance": []
    },
    "kernelspec": {
      "name": "python3",
      "display_name": "Python 3"
    },
    "language_info": {
      "name": "python"
    }
  },
  "cells": [
    {
      "cell_type": "code",
      "execution_count": null,
      "metadata": {
        "id": "oUm0guqpRQZa"
      },
      "outputs": [],
      "source": [
        "import numpy as np\n",
        "import matplotlib.pyplot as plt\n",
        "import pandas as pd\n"
      ]
    },
    {
      "cell_type": "code",
      "source": [
        "dataset_train = pd.read_csv(\"/content/Google_Stock_Price_Train.csv\")"
      ],
      "metadata": {
        "id": "rrl82kxESnGS"
      },
      "execution_count": null,
      "outputs": []
    },
    {
      "cell_type": "code",
      "source": [
        "dataset_train"
      ],
      "metadata": {
        "colab": {
          "base_uri": "https://localhost:8080/",
          "height": 423
        },
        "id": "wavee1CAT9uk",
        "outputId": "06489cb3-63a2-4268-8de3-0cc0d3723f4e"
      },
      "execution_count": null,
      "outputs": [
        {
          "output_type": "execute_result",
          "data": {
            "text/plain": [
              "            Date    Open    High     Low   Close      Volume\n",
              "0       1/3/2012  325.25  332.83  324.97  663.59   7,380,500\n",
              "1       1/4/2012  331.27  333.87  329.08  666.45   5,749,400\n",
              "2       1/5/2012  329.83  330.75  326.89  657.21   6,590,300\n",
              "3       1/6/2012  328.34  328.77  323.68  648.24   5,405,900\n",
              "4       1/9/2012  322.04  322.29  309.46  620.76  11,688,800\n",
              "...          ...     ...     ...     ...     ...         ...\n",
              "1253  12/23/2016  790.90  792.74  787.28  789.91     623,400\n",
              "1254  12/27/2016  790.68  797.86  787.66  791.55     789,100\n",
              "1255  12/28/2016  793.70  794.23  783.20  785.05   1,153,800\n",
              "1256  12/29/2016  783.33  785.93  778.92  782.79     744,300\n",
              "1257  12/30/2016  782.75  782.78  770.41  771.82   1,770,000\n",
              "\n",
              "[1258 rows x 6 columns]"
            ],
            "text/html": [
              "\n",
              "  <div id=\"df-b4100cc3-dc4b-411b-9da7-f66426a00a2e\">\n",
              "    <div class=\"colab-df-container\">\n",
              "      <div>\n",
              "<style scoped>\n",
              "    .dataframe tbody tr th:only-of-type {\n",
              "        vertical-align: middle;\n",
              "    }\n",
              "\n",
              "    .dataframe tbody tr th {\n",
              "        vertical-align: top;\n",
              "    }\n",
              "\n",
              "    .dataframe thead th {\n",
              "        text-align: right;\n",
              "    }\n",
              "</style>\n",
              "<table border=\"1\" class=\"dataframe\">\n",
              "  <thead>\n",
              "    <tr style=\"text-align: right;\">\n",
              "      <th></th>\n",
              "      <th>Date</th>\n",
              "      <th>Open</th>\n",
              "      <th>High</th>\n",
              "      <th>Low</th>\n",
              "      <th>Close</th>\n",
              "      <th>Volume</th>\n",
              "    </tr>\n",
              "  </thead>\n",
              "  <tbody>\n",
              "    <tr>\n",
              "      <th>0</th>\n",
              "      <td>1/3/2012</td>\n",
              "      <td>325.25</td>\n",
              "      <td>332.83</td>\n",
              "      <td>324.97</td>\n",
              "      <td>663.59</td>\n",
              "      <td>7,380,500</td>\n",
              "    </tr>\n",
              "    <tr>\n",
              "      <th>1</th>\n",
              "      <td>1/4/2012</td>\n",
              "      <td>331.27</td>\n",
              "      <td>333.87</td>\n",
              "      <td>329.08</td>\n",
              "      <td>666.45</td>\n",
              "      <td>5,749,400</td>\n",
              "    </tr>\n",
              "    <tr>\n",
              "      <th>2</th>\n",
              "      <td>1/5/2012</td>\n",
              "      <td>329.83</td>\n",
              "      <td>330.75</td>\n",
              "      <td>326.89</td>\n",
              "      <td>657.21</td>\n",
              "      <td>6,590,300</td>\n",
              "    </tr>\n",
              "    <tr>\n",
              "      <th>3</th>\n",
              "      <td>1/6/2012</td>\n",
              "      <td>328.34</td>\n",
              "      <td>328.77</td>\n",
              "      <td>323.68</td>\n",
              "      <td>648.24</td>\n",
              "      <td>5,405,900</td>\n",
              "    </tr>\n",
              "    <tr>\n",
              "      <th>4</th>\n",
              "      <td>1/9/2012</td>\n",
              "      <td>322.04</td>\n",
              "      <td>322.29</td>\n",
              "      <td>309.46</td>\n",
              "      <td>620.76</td>\n",
              "      <td>11,688,800</td>\n",
              "    </tr>\n",
              "    <tr>\n",
              "      <th>...</th>\n",
              "      <td>...</td>\n",
              "      <td>...</td>\n",
              "      <td>...</td>\n",
              "      <td>...</td>\n",
              "      <td>...</td>\n",
              "      <td>...</td>\n",
              "    </tr>\n",
              "    <tr>\n",
              "      <th>1253</th>\n",
              "      <td>12/23/2016</td>\n",
              "      <td>790.90</td>\n",
              "      <td>792.74</td>\n",
              "      <td>787.28</td>\n",
              "      <td>789.91</td>\n",
              "      <td>623,400</td>\n",
              "    </tr>\n",
              "    <tr>\n",
              "      <th>1254</th>\n",
              "      <td>12/27/2016</td>\n",
              "      <td>790.68</td>\n",
              "      <td>797.86</td>\n",
              "      <td>787.66</td>\n",
              "      <td>791.55</td>\n",
              "      <td>789,100</td>\n",
              "    </tr>\n",
              "    <tr>\n",
              "      <th>1255</th>\n",
              "      <td>12/28/2016</td>\n",
              "      <td>793.70</td>\n",
              "      <td>794.23</td>\n",
              "      <td>783.20</td>\n",
              "      <td>785.05</td>\n",
              "      <td>1,153,800</td>\n",
              "    </tr>\n",
              "    <tr>\n",
              "      <th>1256</th>\n",
              "      <td>12/29/2016</td>\n",
              "      <td>783.33</td>\n",
              "      <td>785.93</td>\n",
              "      <td>778.92</td>\n",
              "      <td>782.79</td>\n",
              "      <td>744,300</td>\n",
              "    </tr>\n",
              "    <tr>\n",
              "      <th>1257</th>\n",
              "      <td>12/30/2016</td>\n",
              "      <td>782.75</td>\n",
              "      <td>782.78</td>\n",
              "      <td>770.41</td>\n",
              "      <td>771.82</td>\n",
              "      <td>1,770,000</td>\n",
              "    </tr>\n",
              "  </tbody>\n",
              "</table>\n",
              "<p>1258 rows × 6 columns</p>\n",
              "</div>\n",
              "      <button class=\"colab-df-convert\" onclick=\"convertToInteractive('df-b4100cc3-dc4b-411b-9da7-f66426a00a2e')\"\n",
              "              title=\"Convert this dataframe to an interactive table.\"\n",
              "              style=\"display:none;\">\n",
              "        \n",
              "  <svg xmlns=\"http://www.w3.org/2000/svg\" height=\"24px\"viewBox=\"0 0 24 24\"\n",
              "       width=\"24px\">\n",
              "    <path d=\"M0 0h24v24H0V0z\" fill=\"none\"/>\n",
              "    <path d=\"M18.56 5.44l.94 2.06.94-2.06 2.06-.94-2.06-.94-.94-2.06-.94 2.06-2.06.94zm-11 1L8.5 8.5l.94-2.06 2.06-.94-2.06-.94L8.5 2.5l-.94 2.06-2.06.94zm10 10l.94 2.06.94-2.06 2.06-.94-2.06-.94-.94-2.06-.94 2.06-2.06.94z\"/><path d=\"M17.41 7.96l-1.37-1.37c-.4-.4-.92-.59-1.43-.59-.52 0-1.04.2-1.43.59L10.3 9.45l-7.72 7.72c-.78.78-.78 2.05 0 2.83L4 21.41c.39.39.9.59 1.41.59.51 0 1.02-.2 1.41-.59l7.78-7.78 2.81-2.81c.8-.78.8-2.07 0-2.86zM5.41 20L4 18.59l7.72-7.72 1.47 1.35L5.41 20z\"/>\n",
              "  </svg>\n",
              "      </button>\n",
              "      \n",
              "  <style>\n",
              "    .colab-df-container {\n",
              "      display:flex;\n",
              "      flex-wrap:wrap;\n",
              "      gap: 12px;\n",
              "    }\n",
              "\n",
              "    .colab-df-convert {\n",
              "      background-color: #E8F0FE;\n",
              "      border: none;\n",
              "      border-radius: 50%;\n",
              "      cursor: pointer;\n",
              "      display: none;\n",
              "      fill: #1967D2;\n",
              "      height: 32px;\n",
              "      padding: 0 0 0 0;\n",
              "      width: 32px;\n",
              "    }\n",
              "\n",
              "    .colab-df-convert:hover {\n",
              "      background-color: #E2EBFA;\n",
              "      box-shadow: 0px 1px 2px rgba(60, 64, 67, 0.3), 0px 1px 3px 1px rgba(60, 64, 67, 0.15);\n",
              "      fill: #174EA6;\n",
              "    }\n",
              "\n",
              "    [theme=dark] .colab-df-convert {\n",
              "      background-color: #3B4455;\n",
              "      fill: #D2E3FC;\n",
              "    }\n",
              "\n",
              "    [theme=dark] .colab-df-convert:hover {\n",
              "      background-color: #434B5C;\n",
              "      box-shadow: 0px 1px 3px 1px rgba(0, 0, 0, 0.15);\n",
              "      filter: drop-shadow(0px 1px 2px rgba(0, 0, 0, 0.3));\n",
              "      fill: #FFFFFF;\n",
              "    }\n",
              "  </style>\n",
              "\n",
              "      <script>\n",
              "        const buttonEl =\n",
              "          document.querySelector('#df-b4100cc3-dc4b-411b-9da7-f66426a00a2e button.colab-df-convert');\n",
              "        buttonEl.style.display =\n",
              "          google.colab.kernel.accessAllowed ? 'block' : 'none';\n",
              "\n",
              "        async function convertToInteractive(key) {\n",
              "          const element = document.querySelector('#df-b4100cc3-dc4b-411b-9da7-f66426a00a2e');\n",
              "          const dataTable =\n",
              "            await google.colab.kernel.invokeFunction('convertToInteractive',\n",
              "                                                     [key], {});\n",
              "          if (!dataTable) return;\n",
              "\n",
              "          const docLinkHtml = 'Like what you see? Visit the ' +\n",
              "            '<a target=\"_blank\" href=https://colab.research.google.com/notebooks/data_table.ipynb>data table notebook</a>'\n",
              "            + ' to learn more about interactive tables.';\n",
              "          element.innerHTML = '';\n",
              "          dataTable['output_type'] = 'display_data';\n",
              "          await google.colab.output.renderOutput(dataTable, element);\n",
              "          const docLink = document.createElement('div');\n",
              "          docLink.innerHTML = docLinkHtml;\n",
              "          element.appendChild(docLink);\n",
              "        }\n",
              "      </script>\n",
              "    </div>\n",
              "  </div>\n",
              "  "
            ]
          },
          "metadata": {},
          "execution_count": 6
        }
      ]
    },
    {
      "cell_type": "code",
      "source": [
        "training_set = dataset_train.iloc[:,1:2].values"
      ],
      "metadata": {
        "id": "KsNeBOZKTClF"
      },
      "execution_count": null,
      "outputs": []
    },
    {
      "cell_type": "code",
      "source": [
        "training_set"
      ],
      "metadata": {
        "colab": {
          "base_uri": "https://localhost:8080/"
        },
        "id": "iS8-ZdpgUEXx",
        "outputId": "06fe6e15-afa9-4185-fcb7-b9b01151a294"
      },
      "execution_count": null,
      "outputs": [
        {
          "output_type": "execute_result",
          "data": {
            "text/plain": [
              "array([[325.25],\n",
              "       [331.27],\n",
              "       [329.83],\n",
              "       ...,\n",
              "       [793.7 ],\n",
              "       [783.33],\n",
              "       [782.75]])"
            ]
          },
          "metadata": {},
          "execution_count": 8
        }
      ]
    },
    {
      "cell_type": "code",
      "source": [
        "#feature scaling\n",
        "#normalization\n",
        "from sklearn.preprocessing import MinMaxScaler\n",
        "sc=MinMaxScaler(feature_range=(0,1))\n",
        "training_set_scaled = sc.fit_transform(training_set)"
      ],
      "metadata": {
        "id": "b3MrE4QCTRqH"
      },
      "execution_count": null,
      "outputs": []
    },
    {
      "cell_type": "code",
      "source": [
        "x_train=[]\n",
        "y_train=[]\n",
        "for i in range(60, 1258):\n",
        "  x_train.append(training_set_scaled[i-60:i,0])\n",
        "  y_train.append(training_set_scaled[i,0])\n",
        "x_train, y_train= np.array(x_train), np.array(y_train)"
      ],
      "metadata": {
        "id": "WkPPF82CV7v_"
      },
      "execution_count": null,
      "outputs": []
    },
    {
      "cell_type": "code",
      "source": [
        "#reshaping add dimension in numpy array\n",
        "x_train=np.reshape(x_train,(x_train.shape[0],x_train.shape[1],1))"
      ],
      "metadata": {
        "id": "6Nfq9BafWhUG"
      },
      "execution_count": null,
      "outputs": []
    },
    {
      "cell_type": "code",
      "source": [
        "#importing libraries\n",
        "from keras.models import Sequential\n",
        "from keras.layers import Dense\n",
        "from keras.layers import LSTM\n",
        "from keras.layers import Dropout"
      ],
      "metadata": {
        "id": "gHVsJ3rvYavo"
      },
      "execution_count": null,
      "outputs": []
    },
    {
      "cell_type": "code",
      "source": [
        "#initialising the RNN\n",
        "regressor=Sequential() #reps sequence of layers, predicting continuous values (so it is a regression)"
      ],
      "metadata": {
        "id": "x226vnZVZeQI"
      },
      "execution_count": null,
      "outputs": []
    },
    {
      "cell_type": "code",
      "source": [
        "from keras.layers import Dense, SimpleRNN\n",
        "#adding the first LSTM and some Dropout regularisation\n",
        "#dropout to prevent overfitting\n",
        "regressor.add(SimpleRNN(units=50, return_sequences= True,input_shape=(x_train.shape[1], 1)))\n",
        "#use lstm class and create object of lstm class - 3 args\n",
        "#num of units,return sequences- set to true because is stacked lstms, and shape\n",
        "#units-neurons in first layer . 50 in layers for high dimensionality , can capture upward and downward\n",
        "regressor.add(Dropout(0.2))\n"
      ],
      "metadata": {
        "id": "fg-5LXtSA5re"
      },
      "execution_count": null,
      "outputs": []
    },
    {
      "cell_type": "code",
      "source": [
        "from keras.optimizers import RMSprop\n",
        "from keras.callbacks import Callback\n",
        "regressor.add(SimpleRNN(units=50,return_sequences=False,input_shape=(x_train.shape[1], 1)))\n",
        "regressor.add(Dense(32,activation=\"relu\"))\n",
        "regressor.add(Dense(1))\n",
        "regressor.compile(loss=\"mean_squared_error\",optimizer=RMSprop(),metrics=[\"mse\"])\n"
      ],
      "metadata": {
        "id": "1n7fFfK_D42U"
      },
      "execution_count": null,
      "outputs": []
    },
    {
      "cell_type": "code",
      "source": [
        "regressor.fit(x_train, y_train,epochs=20,batch_size=32)"
      ],
      "metadata": {
        "colab": {
          "base_uri": "https://localhost:8080/"
        },
        "id": "Nj8C1fTlFNjk",
        "outputId": "8afcc033-1538-4522-fa53-c824b01c0f5c"
      },
      "execution_count": null,
      "outputs": [
        {
          "output_type": "stream",
          "name": "stdout",
          "text": [
            "Epoch 1/20\n",
            "38/38 [==============================] - 4s 47ms/step - loss: 0.0319 - mse: 0.0319\n",
            "Epoch 2/20\n",
            "38/38 [==============================] - 1s 38ms/step - loss: 0.0108 - mse: 0.0108\n",
            "Epoch 3/20\n",
            "38/38 [==============================] - 1s 26ms/step - loss: 0.0070 - mse: 0.0070\n",
            "Epoch 4/20\n",
            "38/38 [==============================] - 1s 25ms/step - loss: 0.0058 - mse: 0.0058\n",
            "Epoch 5/20\n",
            "38/38 [==============================] - 1s 25ms/step - loss: 0.0050 - mse: 0.0050\n",
            "Epoch 6/20\n",
            "38/38 [==============================] - 1s 25ms/step - loss: 0.0049 - mse: 0.0049\n",
            "Epoch 7/20\n",
            "38/38 [==============================] - 1s 29ms/step - loss: 0.0038 - mse: 0.0038\n",
            "Epoch 8/20\n",
            "38/38 [==============================] - 1s 25ms/step - loss: 0.0033 - mse: 0.0033\n",
            "Epoch 9/20\n",
            "38/38 [==============================] - 1s 26ms/step - loss: 0.0030 - mse: 0.0030\n",
            "Epoch 10/20\n",
            "38/38 [==============================] - 1s 25ms/step - loss: 0.0030 - mse: 0.0030\n",
            "Epoch 11/20\n",
            "38/38 [==============================] - 1s 26ms/step - loss: 0.0030 - mse: 0.0030\n",
            "Epoch 12/20\n",
            "38/38 [==============================] - 1s 29ms/step - loss: 0.0025 - mse: 0.0025\n",
            "Epoch 13/20\n",
            "38/38 [==============================] - 2s 48ms/step - loss: 0.0025 - mse: 0.0025\n",
            "Epoch 14/20\n",
            "38/38 [==============================] - 1s 31ms/step - loss: 0.0023 - mse: 0.0023\n",
            "Epoch 15/20\n",
            "38/38 [==============================] - 1s 25ms/step - loss: 0.0022 - mse: 0.0022\n",
            "Epoch 16/20\n",
            "38/38 [==============================] - 1s 26ms/step - loss: 0.0021 - mse: 0.0021\n",
            "Epoch 17/20\n",
            "38/38 [==============================] - 1s 26ms/step - loss: 0.0019 - mse: 0.0019\n",
            "Epoch 18/20\n",
            "38/38 [==============================] - 1s 40ms/step - loss: 0.0018 - mse: 0.0018\n",
            "Epoch 19/20\n",
            "38/38 [==============================] - 2s 48ms/step - loss: 0.0017 - mse: 0.0017\n",
            "Epoch 20/20\n",
            "38/38 [==============================] - 1s 25ms/step - loss: 0.0020 - mse: 0.0020\n"
          ]
        },
        {
          "output_type": "execute_result",
          "data": {
            "text/plain": [
              "<keras.callbacks.History at 0x7f57327d2bc0>"
            ]
          },
          "metadata": {},
          "execution_count": 16
        }
      ]
    },
    {
      "cell_type": "code",
      "source": [
        "#Making the predictions and visualising the results\n",
        "dataset_test=pd.read_csv(\"/content/Google_Stock_Price_Train.csv\")\n",
        "real_stock_price = dataset_test.iloc[:,1:2].values"
      ],
      "metadata": {
        "id": "RL6xVW4NFa4l"
      },
      "execution_count": null,
      "outputs": []
    },
    {
      "cell_type": "code",
      "source": [
        "input=real_stock_price.reshape(-1,1)\n",
        "input=sc.transform(input)"
      ],
      "metadata": {
        "id": "nsXnGhlBLkXB"
      },
      "execution_count": null,
      "outputs": []
    },
    {
      "cell_type": "code",
      "source": [
        "\n",
        "x_test=[]\n",
        "for i in range(60,227):\n",
        "  x_test.append(input[i-60:i,0])\n",
        "x_test=np.array(x_test)\n",
        "x_test=np.reshape(x_test,(x_test.shape[0], x_test.shape[1], 1))\n",
        "predicted_stock_price = regressor.predict(x_test)\n",
        "predicted_stock_price = sc.inverse_transform(predicted_stock_price)\n"
      ],
      "metadata": {
        "colab": {
          "base_uri": "https://localhost:8080/"
        },
        "id": "bf1gBv3BGA3Z",
        "outputId": "2809535c-eebd-4c3c-f2ed-186741a91ac2"
      },
      "execution_count": null,
      "outputs": [
        {
          "output_type": "stream",
          "name": "stdout",
          "text": [
            "6/6 [==============================] - 0s 9ms/step\n"
          ]
        }
      ]
    },
    {
      "cell_type": "code",
      "source": [
        "#visualising the results\n",
        "plt.plot(real_stock_price, color=\"red\", label=\"real google stock price\")\n",
        "plt.plot(predicted_stock_price, color=\"blue\",label=\"predicted google stock price\")\n",
        "plt.title(\"google stock price prediction\")\n",
        "plt.xlabel(\"time\")\n",
        "plt.ylabel(\"google stock price\")\n",
        "plt.legend()\n",
        "plt.show()"
      ],
      "metadata": {
        "colab": {
          "base_uri": "https://localhost:8080/",
          "height": 472
        },
        "id": "utEJFNT4HIwo",
        "outputId": "27e97ced-290f-4cc5-d876-0d0bc32d8ae6"
      },
      "execution_count": null,
      "outputs": [
        {
          "output_type": "display_data",
          "data": {
            "text/plain": [
              "<Figure size 640x480 with 1 Axes>"
            ],
            "image/png": "[encoded data removed]"
          },
          "metadata": {}
        }
      ]
    },
    {
      "cell_type": "markdown",
      "source": [
        "STACKED LSTM\n"
      ],
      "metadata": {
        "id": "COrjsUb1KGGO"
      }
    },
    {
      "cell_type": "code",
      "source": [
        "import tensorflow as tf\n",
        "from tensorflow.keras.layers import Dense, Dropout, Input, LSTM\n",
        "from tensorflow.keras.models import Model\n",
        "from tensorflow.keras.optimizers import RMSprop\n",
        "time_steps= 60\n",
        "model= Sequential()\n",
        "model.add(Input(shape=(time_steps, 1)))\n",
        "model.add(LSTM(48, return_sequences=True))\n",
        "model.add(Dropout(0.4))\n",
        "model.add(LSTM(48, return_sequences=True))\n",
        "model.add(Dropout(0.2))\n",
        "model.add(LSTM(48))\n",
        "model.add(Dropout(0.2))\n",
        "model.add(Dense(1, activation=\"relu\"))\n",
        "model.compile(loss=\"mean_squared_error\", optimizer=\"adam\", metrics=[\"mean_squared_error\"])\n",
        "model.summary()"
      ],
      "metadata": {
        "colab": {
          "base_uri": "https://localhost:8080/"
        },
        "id": "CK6EFTqOJaLp",
        "outputId": "af10b58c-e151-43fd-b85c-c6dc5b4f763a"
      },
      "execution_count": null,
      "outputs": [
        {
          "output_type": "stream",
          "name": "stdout",
          "text": [
            "Model: \"sequential_2\"\n",
            "_________________________________________________________________\n",
            " Layer (type)                Output Shape              Param #   \n",
            "=================================================================\n",
            " lstm_3 (LSTM)               (None, 60, 48)            9600      \n",
            "                                                                 \n",
            " dropout_4 (Dropout)         (None, 60, 48)            0         \n",
            "                                                                 \n",
            " lstm_4 (LSTM)               (None, 60, 48)            18624     \n",
            "                                                                 \n",
            " dropout_5 (Dropout)         (None, 60, 48)            0         \n",
            "                                                                 \n",
            " lstm_5 (LSTM)               (None, 48)                18624     \n",
            "                                                                 \n",
            " dropout_6 (Dropout)         (None, 48)                0         \n",
            "                                                                 \n",
            " dense_3 (Dense)             (None, 1)                 49        \n",
            "                                                                 \n",
            "=================================================================\n",
            "Total params: 46,897\n",
            "Trainable params: 46,897\n",
            "Non-trainable params: 0\n",
            "_________________________________________________________________\n"
          ]
        }
      ]
    },
    {
      "cell_type": "code",
      "source": [
        "model.fit(x_train, y_train, batch_size=32, epochs=20 )\n"
      ],
      "metadata": {
        "colab": {
          "base_uri": "https://localhost:8080/"
        },
        "id": "J7DstomINyOn",
        "outputId": "48eeb584-cb3f-4329-ff91-81fce16fdcdd"
      },
      "execution_count": null,
      "outputs": [
        {
          "output_type": "stream",
          "name": "stdout",
          "text": [
            "Epoch 1/20\n",
            "38/38 [==============================] - 10s 86ms/step - loss: 0.0417 - mean_squared_error: 0.0417\n",
            "Epoch 2/20\n",
            "38/38 [==============================] - 3s 88ms/step - loss: 0.0063 - mean_squared_error: 0.0063\n",
            "Epoch 3/20\n",
            "38/38 [==============================] - 4s 103ms/step - loss: 0.0051 - mean_squared_error: 0.0051\n",
            "Epoch 4/20\n",
            "38/38 [==============================] - 4s 101ms/step - loss: 0.0052 - mean_squared_error: 0.0052\n",
            "Epoch 5/20\n",
            "38/38 [==============================] - 3s 89ms/step - loss: 0.0051 - mean_squared_error: 0.0051\n",
            "Epoch 6/20\n",
            "38/38 [==============================] - 3s 89ms/step - loss: 0.0043 - mean_squared_error: 0.0043\n",
            "Epoch 7/20\n",
            "38/38 [==============================] - 5s 121ms/step - loss: 0.0045 - mean_squared_error: 0.0045\n",
            "Epoch 8/20\n",
            "38/38 [==============================] - 5s 132ms/step - loss: 0.0043 - mean_squared_error: 0.0043\n",
            "Epoch 9/20\n",
            "38/38 [==============================] - 3s 91ms/step - loss: 0.0042 - mean_squared_error: 0.0042\n",
            "Epoch 10/20\n",
            "38/38 [==============================] - 5s 122ms/step - loss: 0.0040 - mean_squared_error: 0.0040\n",
            "Epoch 11/20\n",
            "38/38 [==============================] - 3s 91ms/step - loss: 0.0038 - mean_squared_error: 0.0038\n",
            "Epoch 12/20\n",
            "38/38 [==============================] - 4s 93ms/step - loss: 0.0034 - mean_squared_error: 0.0034\n",
            "Epoch 13/20\n",
            "38/38 [==============================] - 5s 122ms/step - loss: 0.0039 - mean_squared_error: 0.0039\n",
            "Epoch 14/20\n",
            "38/38 [==============================] - 3s 90ms/step - loss: 0.0036 - mean_squared_error: 0.0036\n",
            "Epoch 15/20\n",
            "38/38 [==============================] - 3s 88ms/step - loss: 0.0034 - mean_squared_error: 0.0034\n",
            "Epoch 16/20\n",
            "38/38 [==============================] - 4s 103ms/step - loss: 0.0035 - mean_squared_error: 0.0035\n",
            "Epoch 17/20\n",
            "38/38 [==============================] - 4s 110ms/step - loss: 0.0034 - mean_squared_error: 0.0034\n",
            "Epoch 18/20\n",
            "38/38 [==============================] - 4s 92ms/step - loss: 0.0035 - mean_squared_error: 0.0035\n",
            "Epoch 19/20\n",
            "38/38 [==============================] - 4s 92ms/step - loss: 0.0037 - mean_squared_error: 0.0037\n",
            "Epoch 20/20\n",
            "38/38 [==============================] - 5s 123ms/step - loss: 0.0028 - mean_squared_error: 0.0028\n"
          ]
        },
        {
          "output_type": "execute_result",
          "data": {
            "text/plain": [
              "<keras.callbacks.History at 0x7f573256f5e0>"
            ]
          },
          "metadata": {},
          "execution_count": 31
        }
      ]
    },
    {
      "cell_type": "code",
      "source": [
        "from keras.layers import TimeDistributed\n",
        "from keras.layers import Bidirectional,BatchNormalization\n"
      ],
      "metadata": {
        "id": "NmAHzAdyOsia"
      },
      "execution_count": null,
      "outputs": []
    },
    {
      "cell_type": "code",
      "source": [
        "window_size= 60"
      ],
      "metadata": {
        "id": "1ZiEC4d1duVd"
      },
      "execution_count": null,
      "outputs": []
    },
    {
      "cell_type": "code",
      "source": [
        "model4 = Sequential()\n",
        "model4.add(Bidirectional(LSTM(100, return_sequences=True, activation=\"relu\", input_shape=(1,window_size))))\n",
        "model4.add(Bidirectional(LSTM(50, return_sequences=True, dropout=0.5)))\n",
        "model4.add(Bidirectional(LSTM(100, dropout=0.5)))\n",
        "model4.add(BatchNormalization(momentum=0.6))\n",
        "model4.add(Dense(1))\n",
        "model4.compile(loss=\"mean_aquared_error\", optimizer=\"rmsprop\")"
      ],
      "metadata": {
        "id": "p__NFWlmcHnR"
      },
      "execution_count": null,
      "outputs": []
    },
    {
      "cell_type": "code",
      "source": [],
      "metadata": {
        "id": "-mjFi9FtdpjU"
      },
      "execution_count": null,
      "outputs": []
    }
  ]
}