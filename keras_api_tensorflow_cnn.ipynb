{
  "cells": [
    {
      "cell_type": "code",
      "execution_count": null,
      "metadata": {
        "id": "04KoRNq8w4Y2"
      },
      "outputs": [],
      "source": [
        "from google.colab import drive\n",
        "drive.mount('/content/drive')"
      ]
    },
    {
      "cell_type": "code",
      "source": [
        "import matplotlib.pyplot as plt\n",
        "im=plt.imread('/content/drive/MyDrive/cell_images.zip (Unzipped Files)/cell_images/Uninfected/C100P61ThinF_IMG_20150918_144104_cell_21.png')\n",
        "plt.imshow(im)\n",
        "plt.show()"
      ],
      "metadata": {
        "id": "WEWcFE2KzVYM"
      },
      "execution_count": null,
      "outputs": []
    },
    {
      "cell_type": "code",
      "source": [
        "pip install split-folders"
      ],
      "metadata": {
        "id": "hKmj45Xk6Q1z"
      },
      "execution_count": null,
      "outputs": []
    },
    {
      "cell_type": "code",
      "source": [
        "import splitfolders\n",
        "import tensorflow as tf"
      ],
      "metadata": {
        "id": "njcwYDH96cut"
      },
      "execution_count": null,
      "outputs": []
    },
    {
      "cell_type": "code",
      "source": [
        "splitfolders.ratio(\"/content/drive/MyDrive/cell_images.zip (Unzipped Files)/cell_images\",output=\"output\",seed=1337,ratio=(.8,.2))"
      ],
      "metadata": {
        "id": "9AlcErvt_a6K"
      },
      "execution_count": null,
      "outputs": []
    },
    {
      "cell_type": "code",
      "source": [
        "from tensorflow.keras.preprocessing.image import ImageDataGenerator\n"
      ],
      "metadata": {
        "id": "YV5Se1-56r8H"
      },
      "execution_count": null,
      "outputs": []
    },
    {
      "cell_type": "code",
      "source": [
        "train_data=ImageDataGenerator(\n",
        "    rescale=1./255,\n",
        "    rotation_range=40,\n",
        "    width_shift_range=0.2,\n",
        "    height_shift_range=0.2,\n",
        "    shear_range=0.2,\n",
        "    zoom_range=0.2,\n",
        "    horizontal_flip=True,)\n",
        "test_data=ImageDataGenerator(rescale=1/.255)\n",
        "train_generator=train_data.flow_from_directory(\n",
        "    \"/content/output/train\",\n",
        "    target_size=(150,150),\n",
        "    batch_size=20,\n",
        "    class_mode=\"binary\")\n",
        "validation_generator=test_data.flow_from_directory(\n",
        "    \"/content/output/val\",\n",
        "     target_size=(150,150),\n",
        "     batch_size=20,\n",
        "     class_mode=\"binary\")"
      ],
      "metadata": {
        "id": "hccFqbxjCeni"
      },
      "execution_count": null,
      "outputs": []
    },
    {
      "cell_type": "code",
      "source": [
        "from tensorflow.keras import layers\n",
        "from tensorflow.keras import Model\n",
        "from tensorflow.keras.optimizers import RMSprop\n",
        "img_input = layers.Input(shape=(150, 150, 3))\n",
        "x=layers.Conv2D(16, 3, activation=\"relu\")(img_input)\n",
        "x=layers.MaxPooling2D(2)(x)\n",
        "x=layers.Conv2D(32, 3, activation=\"relu\")(x)\n",
        "x=layers.MaxPooling2D(2)(x)\n",
        "x=layers.Convolution2D(64, 3, activation=\"relu\")(x)\n",
        "x=layers.MaxPooling2D(2)(x)\n",
        "x=layers.Convolution2D(128, 3, activation=\"relu\")(x)\n",
        "x=layers.MaxPooling2D(2)(x)\n",
        "x=layers.Flatten()(x)\n",
        "x=layers.Dense(512, activation=\"relu\")(x)\n",
        "x=layers.Dropout(0.5)(x)\n",
        "output=layers.Dense(1, activation=\"sigmoid\")(x)\n",
        "model=Model(img_input,output)"
      ],
      "metadata": {
        "id": "hKoCmqop70tg"
      },
      "execution_count": null,
      "outputs": []
    },
    {
      "cell_type": "code",
      "source": [
        "from tensorflow.keras.preprocessing.image import img_to_array\n",
        "from tensorflow.keras.optimizers import Adadelta\n",
        "model.compile(loss=\"binary_crossentropy\",optimizer=Adadelta(),metrics=[\"acc\"])"
      ],
      "metadata": {
        "id": "DZvwPzsyFIF7"
      },
      "execution_count": null,
      "outputs": []
    },
    {
      "cell_type": "code",
      "source": [
        "history=model.fit_generator(\n",
        "    train_generator,\n",
        "    steps_per_epoch=100,\n",
        "    epochs=15,\n",
        "    validation_data=validation_generator,\n",
        "    validation_steps=50,\n",
        "    verbose=2)"
      ],
      "metadata": {
        "id": "hYHLCyDTIIBd"
      },
      "execution_count": null,
      "outputs": []
    },
    {
      "cell_type": "code",
      "source": [],
      "metadata": {
        "id": "zRAFVxzZHngW"
      },
      "execution_count": null,
      "outputs": []
    }
  ],
  "metadata": {
    "colab": {
      "provenance": [],
      "gpuType": "T4"
    },
    "kernelspec": {
      "display_name": "Python 3",
      "name": "python3"
    },
    "language_info": {
      "name": "python"
    },
    "accelerator": "GPU"
  },
  "nbformat": 4,
  "nbformat_minor": 0
}