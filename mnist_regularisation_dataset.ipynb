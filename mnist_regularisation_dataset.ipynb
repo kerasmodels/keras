{
  "nbformat": 4,
  "nbformat_minor": 0,
  "metadata": {
    "colab": {
      "provenance": []
    },
    "kernelspec": {
      "name": "python3",
      "display_name": "Python 3"
    },
    "language_info": {
      "name": "python"
    }
  },
  "cells": [
    {
      "cell_type": "code",
      "execution_count": null,
      "metadata": {
        "id": "XJlO_DqLvBvl"
      },
      "outputs": [],
      "source": [
        "import numpy as np\n",
        "import pandas as pd\n",
        "import matplotlib.pyplot as plt\n",
        "%matplotlib inline\n",
        "from keras.models import Sequential\n",
        "from keras.layers import Dense,Activation,Dropout\n",
        "from keras.optimizers import Adam,RMSprop\n",
        "from keras import backend as K"
      ]
    },
    {
      "cell_type": "code",
      "source": [
        "from keras.datasets import mnist"
      ],
      "metadata": {
        "id": "-L1-suJMvwJc"
      },
      "execution_count": null,
      "outputs": []
    },
    {
      "cell_type": "code",
      "source": [
        "(x_train, y_train), (x_test, y_test)= mnist.load_data()"
      ],
      "metadata": {
        "id": "wy2QJwJ-wIhC"
      },
      "execution_count": null,
      "outputs": []
    },
    {
      "cell_type": "code",
      "source": [
        "indexes=np.random.randint(0,x_train.shape[0],size=25)\n",
        "images=x_train[indexes]\n",
        "labels=y_train[indexes]\n",
        "plt.figure(figsize=(5,5))\n",
        "#plot the 25 mnist digits\n",
        "for i in range(len(indexes)):\n",
        "  plt.subplot(5,5,i+1)\n",
        "  image=images[i]\n",
        "  plt.imshow(image,cmap=\"gray\")\n",
        "  plt.axis('off')\n",
        "plt.show()\n",
        "plt.savefig(\"mnist-samples.png\")\n",
        "plt.close('all')"
      ],
      "metadata": {
        "id": "uinZWVqNwVrI"
      },
      "execution_count": null,
      "outputs": []
    },
    {
      "cell_type": "code",
      "source": [
        "#dense-hiddenlayer,dropout-regularization\n",
        "from keras.models import Sequential\n",
        "from keras.layers import Dense,Activation,Dropout\n",
        "from keras.utils import to_categorical,plot_model"
      ],
      "metadata": {
        "id": "XRd9FlLWyEfd"
      },
      "execution_count": null,
      "outputs": []
    },
    {
      "cell_type": "code",
      "source": [
        "#image dimensions\n",
        "image_size=x_train.shape[1]\n",
        "input_size=image_size*image_size\n",
        "input_size"
      ],
      "metadata": {
        "id": "1Kvrnapzyy4U"
      },
      "execution_count": null,
      "outputs": []
    },
    {
      "cell_type": "code",
      "source": [
        "#resize and normalize\n",
        "x_train=np.reshape(x_train,[-1,input_size])\n",
        "x_train=x_train.astype('float32')/255\n",
        "x_test=np.reshape(x_test,[-1,input_size])\n",
        "x_test=x_test.astype('float32')/255\n"
      ],
      "metadata": {
        "id": "9KipXEnNzHLh"
      },
      "execution_count": null,
      "outputs": []
    },
    {
      "cell_type": "code",
      "source": [
        "#network parametes\n",
        "batch_size=128\n",
        "hidden_units=20\n",
        "dropout=0.45"
      ],
      "metadata": {
        "id": "bm_tn8CL0eRl"
      },
      "execution_count": null,
      "outputs": []
    },
    {
      "cell_type": "code",
      "source": [
        "num_labels=len(np.unique(y_train))"
      ],
      "metadata": {
        "id": "1BssHhCx1oyc"
      },
      "execution_count": null,
      "outputs": []
    },
    {
      "cell_type": "code",
      "source": [
        "#model is a 3 layer MLP with ReLu and dropout after each layer\n",
        "model=Sequential()\n",
        "model.add(Dense(hidden_units,input_dim=input_size))\n",
        "model.add(Activation('relu'))\n",
        "model.add(Dropout(dropout))\n",
        "model.add(Dense(hidden_units))\n",
        "model.add(Activation('relu'))\n",
        "model.add(Dropout(dropout))\n",
        "model.add(Dense(num_labels))\n",
        "model.add(Activation('softmax'))"
      ],
      "metadata": {
        "id": "AVTSCUOc2I-_"
      },
      "execution_count": null,
      "outputs": []
    },
    {
      "cell_type": "code",
      "source": [
        "model.summary()"
      ],
      "metadata": {
        "id": "AbXwQzWO3MVi"
      },
      "execution_count": null,
      "outputs": []
    },
    {
      "cell_type": "code",
      "source": [
        "#graphical representation of summary of the model\n",
        "plot_model(model,to_file='mlp-mnist.png',show_shapes=True)"
      ],
      "metadata": {
        "id": "PmJnbRSgpgFD"
      },
      "execution_count": null,
      "outputs": []
    },
    {
      "cell_type": "code",
      "source": [
        "model.compile(loss='sparse_categorical_crossentropy',optimizer='adam',metrics=['accuracy'])"
      ],
      "metadata": {
        "id": "NbcgF4MOqUDb"
      },
      "execution_count": null,
      "outputs": []
    },
    {
      "cell_type": "code",
      "source": [
        "print(x_train.shape)\n",
        "print(y_train.shape)\n",
        "print(y_test.shape)\n",
        "print(x_test.shape)"
      ],
      "metadata": {
        "id": "Ph5O2mxgrPD6"
      },
      "execution_count": null,
      "outputs": []
    },
    {
      "cell_type": "code",
      "source": [
        "#x_train/batch_size=60000/128=468.75~469\n",
        "h1=model.fit(x_train,y_train,validation_data=(x_test,y_test),epochs=20,batch_size=batch_size)"
      ],
      "metadata": {
        "id": "bep7CF_DsWIT"
      },
      "execution_count": null,
      "outputs": []
    },
    {
      "cell_type": "code",
      "source": [
        "#plot training history\n",
        "plt.plot(h1.history['loss'],label='train')\n",
        "plt.legend()\n",
        "plt.show()"
      ],
      "metadata": {
        "id": "CV519w-Bt-Q7"
      },
      "execution_count": null,
      "outputs": []
    },
    {
      "cell_type": "code",
      "source": [
        "#plot testing history\n",
        "plt.plot(h1.history['val_loss'],label='test')\n",
        "plt.legend()\n",
        "plt.show()"
      ],
      "metadata": {
        "id": "Glh7pZnWzYc5"
      },
      "execution_count": null,
      "outputs": []
    },
    {
      "cell_type": "code",
      "source": [
        "#plot training and testing  history\n",
        "plt.plot(h1.history['loss'],label='train')\n",
        "plt.plot(h1.history['val_loss'],label='test')\n",
        "plt.legend()\n",
        "plt.show()"
      ],
      "metadata": {
        "id": "ZcnAZ9lIzetg"
      },
      "execution_count": null,
      "outputs": []
    },
    {
      "cell_type": "code",
      "source": [
        "#plot training and testing  history\n",
        "plt.plot(h1.history['accuracy'],label='train')\n",
        "plt.plot(h1.history['val_accuracy'],label='test')\n",
        "plt.legend()\n",
        "plt.show()"
      ],
      "metadata": {
        "id": "ORSv5Vjpzri7"
      },
      "execution_count": null,
      "outputs": []
    },
    {
      "cell_type": "code",
      "source": [
        "#model1 is a 3 layer MLP with ReLu without dropout after each layer\n",
        "model1=Sequential()\n",
        "model1.add(Dense(hidden_units,input_dim=input_size))\n",
        "model1.add(Activation('relu'))\n",
        "\n",
        "model1.add(Dense(hidden_units))\n",
        "model1.add(Activation('relu'))\n",
        "\n",
        "model1.add(Dense(num_labels))\n",
        "model1.add(Activation('softmax'))"
      ],
      "metadata": {
        "id": "NRlflALD0qok"
      },
      "execution_count": null,
      "outputs": []
    },
    {
      "cell_type": "code",
      "source": [
        "model1.summary()"
      ],
      "metadata": {
        "id": "md2Z-N3a1c4d"
      },
      "execution_count": null,
      "outputs": []
    },
    {
      "cell_type": "code",
      "source": [
        "#graphical representation of summary of the model\n",
        "plot_model(model1,to_file='mlp1-mnist.png',show_shapes=True)"
      ],
      "metadata": {
        "id": "JQABuv4P1kWu"
      },
      "execution_count": null,
      "outputs": []
    },
    {
      "cell_type": "code",
      "source": [
        "model1.compile(loss='sparse_categorical_crossentropy',optimizer='adam',metrics=['accuracy'])"
      ],
      "metadata": {
        "id": "TYG1Hpjy1uyD"
      },
      "execution_count": null,
      "outputs": []
    },
    {
      "cell_type": "code",
      "source": [
        "#x_train/batch_size=60000/128=468.75~469\n",
        "h2=model1.fit(x_train,y_train,validation_data=(x_test,y_test),epochs=20,batch_size=batch_size)"
      ],
      "metadata": {
        "id": "rE8iCVLl13eX"
      },
      "execution_count": null,
      "outputs": []
    },
    {
      "cell_type": "code",
      "source": [
        "#plot training and testing  history\n",
        "plt.plot(h2.history['loss'],label='train')\n",
        "plt.plot(h2.history['val_loss'],label='test')\n",
        "plt.legend()\n",
        "plt.show()"
      ],
      "metadata": {
        "id": "6Ild46CV19kf"
      },
      "execution_count": null,
      "outputs": []
    },
    {
      "cell_type": "code",
      "source": [
        "#plot training and testing  history\n",
        "plt.plot(h2.history['accuracy'],label='train')\n",
        "plt.plot(h2.history['val_accuracy'],label='test')\n",
        "plt.legend()\n",
        "plt.show()"
      ],
      "metadata": {
        "id": "PcsYJBra2OW0"
      },
      "execution_count": null,
      "outputs": []
    },
    {
      "cell_type": "code",
      "source": [
        "#model2 is a 3 layer MLP with ReLu with regularization\n",
        "model2=Sequential()\n",
        "model2.add(Dense(hidden_units,input_dim=input_size))\n",
        "model2.add(Activation('relu'))\n",
        "\n",
        "from tensorflow import keras\n",
        "model2.add(Dense(hidden_units, kernel_regularizer=keras.regularizers.l2(0.001)))#L2 REGULARIZATION\n",
        "model2.add(Activation('relu'))\n",
        "\n",
        "model2.add(Dense(num_labels))\n",
        "model2.add(Activation('softmax'))"
      ],
      "metadata": {
        "id": "BqPd0Ih92PH7"
      },
      "execution_count": null,
      "outputs": []
    },
    {
      "cell_type": "code",
      "source": [
        "model2.compile(loss='sparse_categorical_crossentropy',optimizer='adam',metrics=['accuracy'])"
      ],
      "metadata": {
        "id": "KtbK6L-z24JJ"
      },
      "execution_count": null,
      "outputs": []
    },
    {
      "cell_type": "code",
      "source": [
        "#x_train/batch_size=60000/128=468.75~469\n",
        "h3=model2.fit(x_train,y_train,validation_data=(x_test,y_test),epochs=20,batch_size=batch_size)"
      ],
      "metadata": {
        "id": "fVk2Hp0e3aWw"
      },
      "execution_count": null,
      "outputs": []
    },
    {
      "cell_type": "code",
      "source": [
        "#plot training and testing  history\n",
        "plt.plot(h3.history['loss'],label='train')\n",
        "plt.plot(h3.history['val_loss'],label='test')\n",
        "plt.legend()\n",
        "plt.show()"
      ],
      "metadata": {
        "id": "RIbxnWXe3ghf"
      },
      "execution_count": null,
      "outputs": []
    },
    {
      "cell_type": "code",
      "source": [
        "#plot training and testing  history\n",
        "plt.plot(h3.history['accuracy'],label='train')\n",
        "plt.plot(h3.history['val_accuracy'],label='test')\n",
        "plt.legend()\n",
        "plt.show()"
      ],
      "metadata": {
        "id": "lpK6vxSI3rFU"
      },
      "execution_count": null,
      "outputs": []
    },
    {
      "cell_type": "code",
      "source": [
        "#model3 is a 3 layer MLP with ReLu with early stopping\n",
        "model3=Sequential()\n",
        "model3.add(Dense(hidden_units,input_dim=input_size))\n",
        "model3.add(Activation('relu'))\n",
        "\n",
        "from tensorflow import keras\n",
        "from keras.callbacks import EarlyStopping\n",
        "model3.add(Dense(hidden_units))\n",
        "model3.add(Activation('relu'))\n",
        "model3.add(Dropout(dropout))\n",
        "\n",
        "model3.add(Dense(num_labels))\n",
        "model3.add(Activation('softmax'))"
      ],
      "metadata": {
        "id": "2nFmHgz43t_j"
      },
      "execution_count": null,
      "outputs": []
    },
    {
      "cell_type": "code",
      "source": [
        "model3.compile(loss='sparse_categorical_crossentropy',optimizer='adam',metrics=['accuracy'])"
      ],
      "metadata": {
        "id": "BTHhdjzX5-0o"
      },
      "execution_count": null,
      "outputs": []
    },
    {
      "cell_type": "code",
      "source": [
        "#simple early stopping\n",
        "es=EarlyStopping(monitor='val_loss',mode='min',verbose=1)"
      ],
      "metadata": {
        "id": "xG7OO-MH6M75"
      },
      "execution_count": null,
      "outputs": []
    },
    {
      "cell_type": "code",
      "source": [
        "#x_train/batch_size=60000/128=468.75~469\n",
        "h4=model3.fit(x_train,y_train,validation_data=(x_test,y_test),epochs=20,batch_size=batch_size,callbacks=[es])"
      ],
      "metadata": {
        "id": "_s-ddaYc6bVI"
      },
      "execution_count": null,
      "outputs": []
    },
    {
      "cell_type": "code",
      "source": [
        "#plot training and testing  history\n",
        "plt.plot(h4.history['loss'],label='train')\n",
        "plt.plot(h4.history['val_loss'],label='test')\n",
        "plt.legend()\n",
        "plt.show()"
      ],
      "metadata": {
        "id": "C7eM0aeo6hop"
      },
      "execution_count": null,
      "outputs": []
    },
    {
      "cell_type": "code",
      "source": [
        "#plot training and testing  history\n",
        "plt.plot(h4.history['accuracy'],label='train')\n",
        "plt.plot(h4.history['val_accuracy'],label='test')\n",
        "plt.legend()\n",
        "plt.show()"
      ],
      "metadata": {
        "id": "jY1cnarW6s5Z"
      },
      "execution_count": null,
      "outputs": []
    },
    {
      "cell_type": "code",
      "source": [
        "#model3 is a 3 layer MLP with ReLu with early stopping\n",
        "model4=Sequential()\n",
        "model4.add(Dense(hidden_units,input_dim=input_size))\n",
        "model4.add(Activation('relu'))\n",
        "\n",
        "from tensorflow import keras\n",
        "from keras.callbacks import EarlyStopping\n",
        "model4.add(Dense(hidden_units, kernel_regularizer=keras.regularizers.l2(0.001)))\n",
        "model4.add(Activation('relu'))\n",
        "model4.add(Dense(hidden_units, kernel_regularizer=keras.regularizers.l2(0.001)))\n",
        "model4.add(Activation('relu'))\n",
        "model4.add(Dense(hidden_units, kernel_regularizer=keras.regularizers.l2(0.001)))\n",
        "model4.add(Activation('relu'))\n",
        "\n",
        "model4.add(Dense(num_labels))\n",
        "model4.add(Activation('softmax'))\n",
        "model4.compile(loss='sparse_categorical_crossentropy',optimizer='adam',metrics=['accuracy'])\n",
        "#x_train/batch_size=60000/128=468.75~469\n",
        "h5=model4.fit(x_train,y_train,validation_data=(x_test,y_test),epochs=20,batch_size=batch_size)"
      ],
      "metadata": {
        "id": "mi_GQuqn6vRQ"
      },
      "execution_count": null,
      "outputs": []
    },
    {
      "cell_type": "code",
      "source": [
        "#model3 is a 3 layer MLP with ReLu with early stopping\n",
        "model4=Sequential()\n",
        "model4.add(Dense(hidden_units,input_dim=input_size))\n",
        "model4.add(Activation('relu'))\n",
        "\n",
        "from tensorflow import keras\n",
        "from keras.callbacks import EarlyStopping\n",
        "model4.add(Dense(hidden_units, kernel_regularizer=keras.regularizers.l2(0.001)))\n",
        "model4.add(Activation('relu'))\n",
        "model4.add(Dense(hidden_units, kernel_regularizer=keras.regularizers.l2(0.001)))\n",
        "model4.add(Activation('relu'))\n",
        "\n",
        "\n",
        "model4.add(Dense(num_labels))\n",
        "model4.add(Activation('softmax'))\n",
        "model4.compile(loss='sparse_categorical_crossentropy',optimizer='adam',metrics=['accuracy'])\n",
        "#x_train/batch_size=60000/128=468.75~469\n",
        "h5=model4.fit(x_train,y_train,validation_data=(x_test,y_test),epochs=20,batch_size=batch_size)"
      ],
      "metadata": {
        "id": "eW0MMfUh8SVE"
      },
      "execution_count": null,
      "outputs": []
    },
    {
      "cell_type": "code",
      "source": [
        "#model3 is a 3 layer MLP with ReLu with early stopping\n",
        "model4=Sequential()\n",
        "model4.add(Dense(hidden_units,input_dim=input_size))\n",
        "model4.add(Activation('relu'))\n",
        "\n",
        "from tensorflow import keras\n",
        "from keras.callbacks import EarlyStopping\n",
        "\n",
        "\n",
        "\n",
        "model4.add(Dense(hidden_units, kernel_regularizer=keras.regularizers.l2(0.001)))\n",
        "model4.add(Activation('relu'))\n",
        "\n",
        "\n",
        "\n",
        "model4.add(Dense(num_labels))\n",
        "model4.add(Activation('softmax'))\n",
        "model4.compile(loss='sparse_categorical_crossentropy',optimizer='adam',metrics=['accuracy'])\n",
        "#x_train/batch_size=60000/128=468.75~469\n",
        "h5=model4.fit(x_train,y_train,validation_data=(x_test,y_test),epochs=20,batch_size=10,callbacks=[es])"
      ],
      "metadata": {
        "id": "Xic8pbyb-YgX"
      },
      "execution_count": null,
      "outputs": []
    },
    {
      "cell_type": "code",
      "source": [],
      "metadata": {
        "id": "LQlzxyx--leR"
      },
      "execution_count": null,
      "outputs": []
    }
  ]
}