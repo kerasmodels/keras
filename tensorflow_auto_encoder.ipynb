{
  "nbformat": 4,
  "nbformat_minor": 0,
  "metadata": {
    "colab": {
      "provenance": []
    },
    "kernelspec": {
      "name": "python3",
      "display_name": "Python 3"
    },
    "language_info": {
      "name": "python"
    }
  },
  "cells": [
    {
      "cell_type": "code",
      "execution_count": null,
      "metadata": {
        "id": "Wy5czoGGEQh-"
      },
      "outputs": [],
      "source": [
        "from tensorflow.keras.datasets import mnist\n",
        "(train_images,train_labels),(test_images,test_labels) = mnist.load_data()\n",
        "import numpy as np\n",
        "train_images = np.reshape(train_images,(-1,784))\n",
        "test_images = np.reshape(test_images,(-1,784))\n",
        "train_images= train_images.astype('float32')/255\n",
        "test_images=test_images.astype('float32')/255"
      ]
    },
    {
      "cell_type": "code",
      "source": [
        "print(train_images[0])"
      ],
      "metadata": {
        "id": "dKdRkYlzFgV4"
      },
      "execution_count": null,
      "outputs": []
    },
    {
      "cell_type": "code",
      "source": [
        "from tensorflow.keras import Model,Input\n",
        "from tensorflow.keras.layers import Dense\n",
        "\n",
        "input_dim=28*28\n",
        "latent_vec_dim  = 16\n",
        "input_layer = Input(shape=(input_dim,))\n",
        "enc_layer_1 = Dense(latent_vec_dim, activation='tanh')(input_layer)\n",
        "encoder = enc_layer_1\n",
        "dec_layer_1=Dense(input_dim, activation='sigmoid')(encoder)\n",
        "decoder = dec_layer_1\n",
        "autoencoder = Model(input_layer,decoder)\n",
        "latent_model= Model(input_layer,encoder)\n",
        "autoencoder.summary()"
      ],
      "metadata": {
        "id": "s8nYNS57FgZd"
      },
      "execution_count": null,
      "outputs": []
    },
    {
      "cell_type": "code",
      "source": [
        "autoencoder.compile(loss='binary_crossentropy',optimizer='adam')"
      ],
      "metadata": {
        "id": "0fPWuBAzIjeI"
      },
      "execution_count": null,
      "outputs": []
    },
    {
      "cell_type": "code",
      "source": [
        "history=autoencoder.fit(train_images,train_images,epochs=5,\n",
        "                        validation_data=(test_images,test_images))"
      ],
      "metadata": {
        "id": "PxMbUo9jIjhO"
      },
      "execution_count": null,
      "outputs": []
    },
    {
      "cell_type": "code",
      "source": [
        "import matplotlib.pyplot as plt\n",
        "plt.plot(history.history['loss'],label='train')\n",
        "plt.plot(history.history['val_loss'],label='validation')\n",
        "plt.ylabel('Binary cross Entropy loss')\n",
        "plt.xlabel('EPOCH')\n",
        "plt.title('auto encoder reconstruction',pad=13)\n",
        "plt.legend(loc=\"upper right\")\n",
        "\n"
      ],
      "metadata": {
        "id": "hWa2cttZIjkg"
      },
      "execution_count": null,
      "outputs": []
    },
    {
      "cell_type": "code",
      "source": [
        "n = 5\n",
        "plt.figure(figsize=(9,2))\n",
        "for i in range(n):\n",
        "  ax=plt.subplot(1,n,i+1)\n",
        "  plt.imshow(test_images[i].reshape(28,28), cmap=\"gray\")\n",
        "  ax.axis('off')\n",
        "plt.show()"
      ],
      "metadata": {
        "id": "naIymJIJK8Zk"
      },
      "execution_count": null,
      "outputs": []
    },
    {
      "cell_type": "code",
      "source": [
        "reconstructed_images=autoencoder.predict(test_images)\n",
        "n = 5\n",
        "plt.figure(figsize=(9,2))\n",
        "for i in range(n):\n",
        "  ax=plt.subplot(1,n,i+1)\n",
        "  plt.imshow(reconstructed_images[i].reshape(28,28), cmap=\"gray\")\n",
        "  ax.axis('off')\n",
        "plt.show()"
      ],
      "metadata": {
        "id": "C30WwKh4K8ca"
      },
      "execution_count": null,
      "outputs": []
    },
    {
      "cell_type": "code",
      "source": [
        "from tensorflow.keras import Model,Input\n",
        "from tensorflow.keras.layers import Dense\n",
        "\n",
        "input_dim=28*28\n",
        "latent_vec_dim  = 16\n",
        "input_layer = Input(shape=(input_dim,))\n",
        "\n",
        "enc_layer_1=Dense(500,activation=\"sigmoid\")(input_layer)\n",
        "enc_layer_2=Dense(500,activation=\"sigmoid\")(enc_layer_1)\n",
        "enc_layer_3=Dense(500,activation=\"sigmoid\")(enc_layer_2)\n",
        "enc_layer_4=Dense(500,activation=\"sigmoid\")(enc_layer_3)\n",
        "encoder=enc_layer_4\n",
        "\n",
        "# Decoder bulding\n",
        "dec_layer_1=Dense(100,activation='sigmoid')(encoder)\n",
        "dec_layer_2=Dense(300,activation='sigmoid')(dec_layer_1)\n",
        "dec_layer_3=Dense(500,activation='sigmoid')(dec_layer_2)\n",
        "dec_layer_4=Dense(input_dim,activation='sigmoid')(dec_layer_3)\n",
        "decoder=dec_layer_4\n",
        "\n",
        "#connect both encoder and decoder\n",
        "autoencoder=Model(input_layer,decoder)\n",
        "\n"
      ],
      "metadata": {
        "id": "_UV6rNSyK8du"
      },
      "execution_count": null,
      "outputs": []
    },
    {
      "cell_type": "code",
      "source": [
        "autoencoder.summary()"
      ],
      "metadata": {
        "id": "LCbWKc3YK8iL"
      },
      "execution_count": null,
      "outputs": []
    },
    {
      "cell_type": "code",
      "source": [
        "autoencoder.compile(loss='binary_crossentropy',optimizer='adam')"
      ],
      "metadata": {
        "id": "4HVvpqgsK8lL"
      },
      "execution_count": null,
      "outputs": []
    },
    {
      "cell_type": "code",
      "source": [
        "history=autoencoder.fit(train_images,train_images,epochs=5,\n",
        "                        validation_data=(test_images,test_images))"
      ],
      "metadata": {
        "id": "zJWqVA-KK8on"
      },
      "execution_count": null,
      "outputs": []
    },
    {
      "cell_type": "code",
      "source": [
        "import matplotlib.pyplot as plt\n",
        "plt.plot(history.history['loss'],label='train')\n",
        "plt.plot(history.history['val_loss'],label='validation')\n",
        "plt.ylabel('Binary cross Entropy loss')\n",
        "plt.xlabel('EPOCH')\n",
        "plt.title('auto encoder reconstruction',pad=13)\n",
        "plt.legend(loc=\"upper right\")\n",
        "\n"
      ],
      "metadata": {
        "id": "ofgzrU0MTK64"
      },
      "execution_count": null,
      "outputs": []
    },
    {
      "cell_type": "code",
      "source": [
        "n = 5\n",
        "plt.figure(figsize=(9,2))\n",
        "for i in range(n):\n",
        "  ax=plt.subplot(1,n,i+1)\n",
        "  plt.imshow(test_images[i].reshape(28,28), cmap=\"gray\")\n",
        "  ax.axis('off')\n",
        "plt.show()"
      ],
      "metadata": {
        "id": "hJT7oXKqTZLE"
      },
      "execution_count": null,
      "outputs": []
    },
    {
      "cell_type": "code",
      "source": [
        "reconstructed_images=autoencoder.predict(test_images)\n",
        "n = 5\n",
        "plt.figure(figsize=(9,2))\n",
        "for i in range(n):\n",
        "  ax=plt.subplot(1,n,i+1)\n",
        "  plt.imshow(reconstructed_images[i].reshape(28,28), cmap=\"gray\")\n",
        "  ax.axis('off')\n",
        "plt.show()"
      ],
      "metadata": {
        "id": "AIyZ6jz2TZPD"
      },
      "execution_count": null,
      "outputs": []
    },
    {
      "cell_type": "code",
      "source": [
        "from keras.layers import Input , Dense, Conv2D , MaxPooling2D , UpSampling2D\n",
        "from keras.models import Model\n",
        "input_img = Input(shape=(28,28,1))\n",
        "x = Conv2D(32,(3,3),activation='relu',padding='same')(input_img)\n",
        "x = MaxPooling2D((2,2),padding='same')(x)\n",
        "x = Conv2D(32,(3,3),activation='relu',padding='same')(x)\n",
        "encoded= MaxPooling2D((2,2),padding='same')(x)\n",
        "x = Conv2D(32,(3,3),activation='relu',padding='same')(encoded)\n",
        "x = UpSampling2D((2,2))(x)\n",
        "x = Conv2D(32,(3,3),activation='relu',padding='same')(x)\n",
        "x = UpSampling2D((2,2))(x)\n",
        "decoded = Conv2D(32,(3,3),activation='sigmoid',padding='same')(x)\n",
        "autoencoder = Model(input_img,decoded)\n"
      ],
      "metadata": {
        "id": "VstiTatqTZSY"
      },
      "execution_count": null,
      "outputs": []
    },
    {
      "cell_type": "code",
      "source": [],
      "metadata": {
        "id": "kCDLL0EtTK9I"
      },
      "execution_count": null,
      "outputs": []
    },
    {
      "cell_type": "code",
      "source": [],
      "metadata": {
        "id": "5Fp11CXQTK_A"
      },
      "execution_count": null,
      "outputs": []
    },
    {
      "cell_type": "code",
      "source": [],
      "metadata": {
        "id": "t0e6uPl0TLAt"
      },
      "execution_count": null,
      "outputs": []
    },
    {
      "cell_type": "code",
      "source": [],
      "metadata": {
        "id": "zc_wG35PTLCX"
      },
      "execution_count": null,
      "outputs": []
    }
  ]
}